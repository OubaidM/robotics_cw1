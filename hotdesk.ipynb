{
 "cells": [
  {
   "cell_type": "markdown",
   "id": "5a70bbd6",
   "metadata": {},
   "source": [
    "M00967179"
   ]
  },
  {
   "cell_type": "markdown",
   "id": "fcbb572b",
   "metadata": {},
   "source": [
    "# Hot-Desk Detector - ROCm 6.0 + YOLOv11"
   ]
  },
  {
   "cell_type": "markdown",
   "id": "4d32cdb4",
   "metadata": {},
   "source": [
    "#### **Hardware**:\n",
    "**GPU**: AMD Radeon RX6800XT (16GB VRAM) [Relevant for Batch and Imgsz]  \n",
    "**CPU**: AMD Ryzen 5 9600X (6Cores/12Threads) [Relevant for amount of Workers]  \n",
    "**RAM**: Crucial DDR5 Pro 32GB @6400MT/s [Relvant for cache:'ram']"
   ]
  },
  {
   "cell_type": "markdown",
   "id": "8537451d",
   "metadata": {},
   "source": [
    "**Model**: YOLOv11m  \n",
    "**Classes**: 8"
   ]
  },
  {
   "cell_type": "markdown",
   "id": "158054d8",
   "metadata": {},
   "source": [
    "### Verify that the environment works and that the GPU is being detected  \n",
    "**Note**: If GPU is not detected, PyTorch will default to CPU"
   ]
  },
  {
   "cell_type": "code",
   "execution_count": null,
   "id": "4845fb4d",
   "metadata": {},
   "outputs": [],
   "source": [
    "import torch\n",
    "import ultralytics\n",
    "import numpy as np\n",
    "\n",
    "print(f\"🔥 PyTorch: {torch.__version__}\")\n",
    "print(f\"🎯 Ultralytics: {ultralytics.__version__}\")\n",
    "print(f\"🖥️  GPU: {torch.cuda.get_device_name(0) if torch.cuda.is_available() else 'CPU'}\")\n",
    "print(f\"✅ ROCm available: {torch.cuda.is_available()}\")\n",
    "print(f\"📊 CUDA devices: {torch.cuda.device_count()}\")"
   ]
  },
  {
   "cell_type": "markdown",
   "id": "65ce0dc0",
   "metadata": {},
   "source": [
    "### Model Initialization  \n",
    "**Note**: The commented out bit is for the YOLOv8m model, which was used for initial testing."
   ]
  },
  {
   "cell_type": "code",
   "execution_count": null,
   "id": "fe3bdf4e",
   "metadata": {},
   "outputs": [],
   "source": [
    "# from ultralytics import YOLO\n",
    "\n",
    "# # Load medium-sized YOLOv8 model\n",
    "# model = YOLO('yolov8m.pt')\n",
    "# print(\"✅ YOLOv8m model loaded successfully!\")\n",
    "\n",
    "# # Display model architecture\n",
    "# print(f\"Model parameters: {sum(p.numel() for p in model.parameters()):,}\")\n",
    "\n",
    "# ==========================================\n",
    "# 3. MODEL INITIALISATION – YOLO11\n",
    "# ==========================================\n",
    "from ultralytics import YOLO\n",
    "\n",
    "model = YOLO(\"yolo11m.pt\")          # Set to yolo11n.pt for way quicker experiments and if on CPU\n",
    "print(\"✅ YOLO11m model loaded successfully!\")\n",
    "print(f\"Model parameters: {sum(p.numel() for p in model.parameters()):,}\")"
   ]
  },
  {
   "cell_type": "markdown",
   "id": "cb4050c2",
   "metadata": {},
   "source": [
    "### Phase 1  \n",
    "Full Dataset + Heavy Aug"
   ]
  },
  {
   "cell_type": "code",
   "execution_count": null,
   "id": "f2a0eb27",
   "metadata": {},
   "outputs": [],
   "source": [
    "phase1 = dict(\n",
    "    data=\"data.yaml\",\n",
    "    epochs=200,\n",
    "    imgsz=640,                # Lower to 448 if having issues or on CPU.\n",
    "    batch=32,                 # Recommeded to lower to 8 if on CPU!!\n",
    "    workers=10,               # 10 out of 12 Threads is being used. DO NOT use all threads, it will cause your OS to crash.\n",
    "    device=0,                 # device=0 is GPU, change to device='cpu' for CPU.\n",
    "    optimizer=\"AdamW\",\n",
    "    lr0=0.001,\n",
    "    lrf=0.05,\n",
    "    weight_decay=0.0005,\n",
    "    momentum=0.937,\n",
    "    warmup_epochs=3,\n",
    "    amp=True,                 # ROCm native AMP, set to False for CPU!!\n",
    "    half=False,               # keep FP32 BN\n",
    "    cache=\"ram\",              # 32 GB DDR5. Use cache=\"disk\" if the RAM cannot handle it.\n",
    "    compile=False,            # If True, training time will be faster, but caused issues on ROCm env so I set to False.       \n",
    "    patience=20,              # If mAP50 does not improve after 20 epochs, stop training.\n",
    "    project=\"hotdesk_training\",\n",
    "    name=\"yolo11m_phase1\",\n",
    "    exist_ok=True,\n",
    "    # ----- augmentation -----\n",
    "    hsv_h=0.015,\n",
    "    hsv_s=0.7,\n",
    "    hsv_v=0.4,\n",
    "    degrees=5.0,\n",
    "    translate=0.1,\n",
    "    scale=0.5,\n",
    "    fliplr=0.5,\n",
    "    mosaic=1.0,\n",
    "    mixup=0.2,\n",
    "    copy_paste=0.1,\n",
    "    perspective=0.0005,\n",
    "    flipud=0.0,\n",
    "    # ----- loss -----\n",
    "    label_smoothing=0.05,\n",
    "    box=7.5,\n",
    "    cls=0.5,\n",
    "    dfl=1.5,\n",
    "    # ----- outputs -----\n",
    "    save_period=10,          # Saves model every 10 epoch so that progress is not loss on event of a system crash.\n",
    "    plots=True,\n",
    ")\n",
    "\n",
    "print(\"🔥 STARTING PHASE-1 – YOLO11m full-training\")\n",
    "results_p1 = model.train(**phase1)"
   ]
  },
  {
   "cell_type": "markdown",
   "id": "3b918aa7",
   "metadata": {},
   "source": [
    "### Phase 2  \n",
    "Fine-tune best weight  \n",
    "i.e lower LR, lighter aug, longer epochs."
   ]
  },
  {
   "cell_type": "code",
   "execution_count": null,
   "id": "9ffeb247",
   "metadata": {},
   "outputs": [],
   "source": [
    "# DO NOT FORGET TO SET THE SAME TOGGLE AS ABOVE IF ON CPU!!\n",
    "from pathlib import Path\n",
    "model_path = Path('/home/hotdesk/yolo_docker_project/hotdesk_training/yolo11m_phase1/weights/best.pt') # Set this path to wherever the best.pt was generated from the above training.\n",
    "phase2 = dict(\n",
    "    data=\"data.yaml\",\n",
    "    epochs=50,                 # enough to drop LR 5×\n",
    "    imgsz=640,\n",
    "    batch=16,                  # smaller micro-batch → stabler gradients\n",
    "    workers=8,                \n",
    "    device=0,\n",
    "    optimizer=\"AdamW\",\n",
    "    lr0=1e-4,                  # 10× lower than phase-1\n",
    "    lrf=0.01,\n",
    "    weight_decay=0.0005,\n",
    "    warmup_epochs=1,\n",
    "    amp=True,\n",
    "    half=False,\n",
    "    cache=\"ram\",\n",
    "    compile=False,             # keep off until ROCm fix\n",
    "    patience=20,\n",
    "    project=\"hotdesk_training\",\n",
    "    name=\"yolo11m_phase2_finetune\",\n",
    "    exist_ok=True,\n",
    "    # ----- LIGHTER AUG → less distortion for mug/bottle -----\n",
    "    hsv_h=0.01,\n",
    "    degrees=2.0,\n",
    "    translate=0.05,\n",
    "    scale=0.2,\n",
    "    fliplr=0.5,\n",
    "    mosaic=0.5,\n",
    "    mixup=0.0,\n",
    "    copy_paste=0.0,\n",
    "    # ----- start from best -----\n",
    "    model=model_path, \n",
    ")\n",
    "\n",
    "print(\"🎯 STARTING PHASE-2 – fine-tune best checkpoint\")\n",
    "model2 = YOLO(model_path)\n",
    "results_p2 = model2.train(**phase2)"
   ]
  }
 ],
 "metadata": {
  "kernelspec": {
   "display_name": "Python 3",
   "language": "python",
   "name": "python3"
  },
  "language_info": {
   "codemirror_mode": {
    "name": "ipython",
    "version": 3
   },
   "file_extension": ".py",
   "mimetype": "text/x-python",
   "name": "python",
   "nbconvert_exporter": "python",
   "pygments_lexer": "ipython3",
   "version": "3.10.12"
  }
 },
 "nbformat": 4,
 "nbformat_minor": 5
}
