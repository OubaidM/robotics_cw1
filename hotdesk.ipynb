{
 "cells": [
  {
   "cell_type": "markdown",
   "id": "5a70bbd6",
   "metadata": {},
   "source": [
    "M00967179"
   ]
  },
  {
   "cell_type": "markdown",
   "id": "fcbb572b",
   "metadata": {},
   "source": [
    "# Hot-Desk Detector - ROCm 6.0 + YOLOv11"
   ]
  },
  {
   "cell_type": "markdown",
   "id": "4d32cdb4",
   "metadata": {},
   "source": [
    "#### **Hardware**:\n",
    "**GPU**: AMD Radeon RX6800XT (16GB VRAM) [Relevant for Batch and Imgsz]  \n",
    "**CPU**: AMD Ryzen 5 9600X (6Cores/12Threads) [Relevant for amount of Workers]  \n",
    "**RAM**: Crucial DDR5 Pro 32GB @6400MT/s [Relvant for cache:'ram']"
   ]
  },
  {
   "cell_type": "markdown",
   "id": "8537451d",
   "metadata": {},
   "source": [
    "**Model**: YOLOv11m  \n",
    "**Classes**: 8"
   ]
  },
  {
   "cell_type": "markdown",
   "id": "158054d8",
   "metadata": {},
   "source": [
    "### Verify that the environment works and that the GPU is being detected  \n",
    "**Note**: If GPU is not detected, PyTorch will default to CPU"
   ]
  },
  {
   "cell_type": "code",
   "execution_count": 1,
   "id": "4845fb4d",
   "metadata": {},
   "outputs": [
    {
     "name": "stdout",
     "output_type": "stream",
     "text": [
      "🔥 PyTorch: 2.4.1+rocm6.0\n",
      "🎯 Ultralytics: 8.3.221\n",
      "🖥️  GPU: AMD Radeon RX 6800 XT\n",
      "✅ ROCm available: True\n",
      "📊 CUDA devices: 1\n"
     ]
    }
   ],
   "source": [
    "import torch\n",
    "import ultralytics\n",
    "import numpy as np\n",
    "\n",
    "print(f\"🔥 PyTorch: {torch.__version__}\")\n",
    "print(f\"🎯 Ultralytics: {ultralytics.__version__}\")\n",
    "print(f\"🖥️  GPU: {torch.cuda.get_device_name(0) if torch.cuda.is_available() else 'CPU'}\")\n",
    "print(f\"✅ ROCm available: {torch.cuda.is_available()}\")\n",
    "print(f\"📊 CUDA devices: {torch.cuda.device_count()}\")"
   ]
  },
  {
   "cell_type": "markdown",
   "id": "65ce0dc0",
   "metadata": {},
   "source": [
    "### Model Initialization  \n",
    "**Note**: The commented out bit is for the YOLOv8m model, which was used for initial testing."
   ]
  },
  {
   "cell_type": "code",
   "execution_count": 2,
   "id": "fe3bdf4e",
   "metadata": {},
   "outputs": [
    {
     "name": "stdout",
     "output_type": "stream",
     "text": [
      "\u001b[KDownloading https://github.com/ultralytics/assets/releases/download/v8.3.0/yolo11m.pt to 'yolo11m.pt': 100% ━━━━━━━━━━━━ 38.8MB 8.5MB/s 4.6s 4.5s<0.0s6s6\n",
      "✅ YOLO11m model loaded successfully!\n",
      "Model parameters: 20,114,688\n"
     ]
    }
   ],
   "source": [
    "# from ultralytics import YOLO\n",
    "\n",
    "# # Load medium-sized YOLOv8 model\n",
    "# model = YOLO('yolov8m.pt')\n",
    "# print(\"✅ YOLOv8m model loaded successfully!\")\n",
    "\n",
    "# # Display model architecture\n",
    "# print(f\"Model parameters: {sum(p.numel() for p in model.parameters()):,}\")\n",
    "\n",
    "# ==========================================\n",
    "# 3. MODEL INITIALISATION – YOLO11\n",
    "# ==========================================\n",
    "from ultralytics import YOLO\n",
    "\n",
    "model = YOLO(\"yolo11m.pt\")          # or yolo11s.pt for quicker experiments\n",
    "print(\"✅ YOLO11m model loaded successfully!\")\n",
    "print(f\"Model parameters: {sum(p.numel() for p in model.parameters()):,}\")"
   ]
  }
 ],
 "metadata": {
  "kernelspec": {
   "display_name": "Python 3",
   "language": "python",
   "name": "python3"
  },
  "language_info": {
   "codemirror_mode": {
    "name": "ipython",
    "version": 3
   },
   "file_extension": ".py",
   "mimetype": "text/x-python",
   "name": "python",
   "nbconvert_exporter": "python",
   "pygments_lexer": "ipython3",
   "version": "3.10.12"
  }
 },
 "nbformat": 4,
 "nbformat_minor": 5
}
